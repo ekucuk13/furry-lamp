{
 "cells": [
  {
   "cell_type": "code",
   "execution_count": 1,
   "metadata": {},
   "outputs": [],
   "source": [
    "using JSON,Knet\n",
    "include(Pkg.dir(\"Knet\",\"data\",\"imagenet.jl\"));\n",
    "include(Pkg.dir(\"Knet\",\"examples\",\"vgg\",\"vgg.jl\"));\n",
    "#Pkg.update(\"HDF5\")\n",
    "using JLD"
   ]
  },
  {
   "cell_type": "code",
   "execution_count": 2,
   "metadata": {},
   "outputs": [
    {
     "data": {
      "text/plain": [
       "readJson (generic function with 1 method)"
      ]
     },
     "execution_count": 2,
     "metadata": {},
     "output_type": "execute_result"
    }
   ],
   "source": [
    "#generates [x,y] pairs where x=[224,224,3,1] and y=1:classnumber\n",
    "function readJson(filenames)\n",
    "    _y=Any[]#class label \n",
    "    imgUrls=Any[]\n",
    "    titles=Any[]\n",
    "    dataDict=Dict{String,Any}()\n",
    "    #open file and read the data push \n",
    "    for class in 1:length(filenames)\n",
    "        open(string(\"Data/\"filenames[class],\".json\"),\"r\") do f\n",
    "            jsonObj=Any[] #global\n",
    "            lines=readlines(f)\n",
    "            for l in lines\n",
    "                dict2=JSON.parse(l)\n",
    "                if(get(dict2,\"imUrl\",nothing)!=nothing)\n",
    "                    nestedDict=Dict{String,Any}()\n",
    "                    nestedDict[\"class\"]=class\n",
    "                    nestedDict[\"title\"]=get(dict2,\"title\",nothing)\n",
    "                    nestedDict[\"imUrl\"]=get(dict2,\"imUrl\",nothing)\n",
    "                    dataDict[get(dict2,\"asin\",nothing)]=nestedDict\n",
    "                end\n",
    "            end\n",
    "        end\n",
    "    end\n",
    "    return dataDict\n",
    "end"
   ]
  },
  {
   "cell_type": "code",
   "execution_count": 33,
   "metadata": {},
   "outputs": [
    {
     "data": {
      "text/plain": [
       "prepareImg (generic function with 1 method)"
      ]
     },
     "execution_count": 33,
     "metadata": {},
     "output_type": "execute_result"
    }
   ],
   "source": [
    "function prepareImg(dict,atype,model)\n",
    "    averageImage = convert(Array{Float32},model[\"meta\"][\"normalization\"][\"averageImage\"])\n",
    "    imageSize= convert(Array{Int32},(model[\"meta\"][\"normalization\"][\"imageSize\"]))\n",
    "    for  key in keys(dict)\n",
    "        dict2=get(dict,key,nothing)\n",
    "        imUrl=get(dict2,\"imUrl\",nothing)\n",
    "        try\n",
    "            image = Main.imgdata(imUrl, averageImage)\n",
    "            dict2[\"image\"]=image\n",
    "            dict[key]=dict2\n",
    "        catch\n",
    "            delete!(dict,key)\n",
    "        end \n",
    "    end\n",
    "    println(\"Image is prepared with dictionary size\", length(dict))\n",
    "    return dict\n",
    "end"
   ]
  },
  {
   "cell_type": "code",
   "execution_count": null,
   "metadata": {},
   "outputs": [],
   "source": [
    "function prepareData(model,atype,imgUrls,_y)\n",
    "   badurl=0\n",
    "   #vgg = Main.matconvnet(model) #vgg = Main.matconvnet(o[:model])\n",
    "   averageImage = convert(Array{Float32},model[\"meta\"][\"normalization\"][\"averageImage\"])\n",
    "   imageSize= convert(Array{Int32},(model[\"meta\"][\"normalization\"][\"imageSize\"]))\n",
    "   a,b,c,d=imageSize\n",
    "   Data=atype(zeros(a,b,c,length(_y)))\n",
    "   x=Any[]\n",
    "   data=Any[]\n",
    "   clean_y=Any[]\n",
    "    for i in 1:length(imgUrls)\n",
    "        if(imgUrls[i]!=nothing)\n",
    "            try\n",
    "                image = Main.imgdata(imgUrls[i], averageImage);\n",
    "                #image = convert(atype, image);\n",
    "                push!(x, image)\n",
    "                push!(clean_y,_y[i])\n",
    "                push!(data, [image,_y[i]])\n",
    "            catch\n",
    "                 badurl+=1\n",
    "                 println(imgUrls[i])\n",
    "                 println(\"url is not good\")\n",
    "            end\n",
    "        else\n",
    "            badurl+=1\n",
    "            println(\"url is not included\")\n",
    "        end\n",
    "        \n",
    "    end\n",
    "    return data\n",
    "end"
   ]
  },
  {
   "cell_type": "code",
   "execution_count": 4,
   "metadata": {},
   "outputs": [
    {
     "data": {
      "text/plain": [
       "main (generic function with 1 method)"
      ]
     },
     "execution_count": 4,
     "metadata": {},
     "output_type": "execute_result"
    }
   ],
   "source": [
    "function main()\n",
    "    atype=KnetArray{Float32}\n",
    "    _filenames=[\"meta_Baby\", \"meta_Cell_Phones_and_Accessories\",\"meta_Clothing_Shoes_and_Jewelry\",\n",
    "          \"meta_Electronics\",\"meta_Grocery_and_Gourmet_Food\",\"meta_Health_and_Personal_Care\",\n",
    "          \"meta_Home_and_Kitchen\",\"meta_Musical_Instruments\",\"meta_Pet_Supplies\",\n",
    "          \"meta_Sports_and_Outdoors\",\"meta_Tools_and_Home_Improvement\",\"meta_Toys_and_Games\"]\n",
    "    model=\"imagenet-vgg-verydeep-16\" \n",
    "    model = Main.matconvnet(model)\n",
    "    dict=readJson(_filenames)\n",
    "    dict2=prepareImg(dict,atype,model)\n",
    "    save(\"data.jld\",\"data\",dict2)\n",
    "    return dict2\n",
    "end\n"
   ]
  },
  {
   "cell_type": "code",
   "execution_count": null,
   "metadata": {},
   "outputs": [],
   "source": []
  },
  {
   "cell_type": "code",
   "execution_count": null,
   "metadata": {},
   "outputs": [],
   "source": []
  }
 ],
 "metadata": {
  "kernelspec": {
   "display_name": "Julia 0.6.2",
   "language": "julia",
   "name": "julia-0.6"
  },
  "language_info": {
   "file_extension": ".jl",
   "mimetype": "application/julia",
   "name": "julia",
   "version": "0.6.2"
  }
 },
 "nbformat": 4,
 "nbformat_minor": 2
}
