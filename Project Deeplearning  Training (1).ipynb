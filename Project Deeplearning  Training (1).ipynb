{
 "cells": [
  {
   "cell_type": "code",
   "execution_count": 1,
   "metadata": {},
   "outputs": [],
   "source": [
    "using JSON,Knet,JLD\n",
    "include(Pkg.dir(\"Knet\",\"data\",\"imagenet.jl\"));\n",
    "include(Pkg.dir(\"Knet\",\"examples\",\"vgg\",\"vgg.jl\"));"
   ]
  },
  {
   "cell_type": "code",
   "execution_count": 2,
   "metadata": {},
   "outputs": [
    {
     "data": {
      "text/plain": [
       "12"
      ]
     },
     "execution_count": 2,
     "metadata": {},
     "output_type": "execute_result"
    }
   ],
   "source": [
    "const LAYER_TYPES = [\"conv\", \"relu\", \"pool\", \"fc\", \"prob\"]\n",
    "const numClass=12"
   ]
  },
  {
   "cell_type": "code",
   "execution_count": 3,
   "metadata": {},
   "outputs": [
    {
     "data": {
      "text/plain": [
       "batch (generic function with 1 method)"
      ]
     },
     "execution_count": 3,
     "metadata": {},
     "output_type": "execute_result"
    }
   ],
   "source": [
    "#batches the data into train test and validation prepares vectors of 224,224,3,n\n",
    "function batch(model,dict,allkeys)\n",
    "    imageSize= convert(Array{Int32},(model[\"meta\"][\"normalization\"][\"imageSize\"]))\n",
    "    a,b,c,d=imageSize\n",
    "    leng=length(allkeys)\n",
    "    Data=atype(zeros(a,b,c,leng))\n",
    "    rng = MersenneTwister(1234);\n",
    "    shuffledKeys=shuffle!(rng, allkeys)\n",
    "    #Data=zeros(a,b,c,leng)\n",
    "    trnData,tstData,valData=Any[],Any[],Any[]\n",
    "    #Train Test and Validation 7:2:1 ratio \n",
    "    datasizes=[div(leng*7,10),div(leng*2,10),div(leng,10)]\n",
    "    xtrn,ytrn=zeros(a,b,c,datasizes[1]),zeros(datasizes[1],1) #train data\n",
    "    xtst,ytst=zeros(a,b,c,datasizes[2]),zeros(datasizes[2],1)#test data \n",
    "    xvl,yvl=zeros(a,b,c,datasizes[3]),zeros(datasizes[3],1)#validation data\n",
    "    #ygold=zeros(leng,1)\n",
    "    #Data=convert(atype,zeros(a,b,c,d))\n",
    "    for (i,key) in enumerate(allkeys)\n",
    "        d=get(dict,key,nothing)\n",
    "        x=get(d,\"image\",nothing)\n",
    "        y=get(d,\"class\",nothing)\n",
    "        #Push to train data\n",
    "        if i<=datasizes[1]   \n",
    "            xtrn[:,:,:,i]=x\n",
    "            ytrn[i,1]=y\n",
    "        #Push to test data\n",
    "        elseif i<=datasizes[1]+datasizes[2]  \n",
    "            xtst[:,:,:,i-datasizes[1]]=x\n",
    "            ytst[i-datasizes[1],1]=y\n",
    "        #Push to validation data,\n",
    "        else\n",
    "            xvl[:,:,:,i-(datasizes[1]+datasizes[2])]=x\n",
    "            yvl[i-(datasizes[1]+datasizes[2]),1]=y\n",
    "        end\n",
    "    end\n",
    "    trnData=[xtrn,ytrn]\n",
    "    tstData=[xtst,ytst]\n",
    "    valData=[xvl,yvl]\n",
    "    return trnData,tstData,valData\n",
    "end "
   ]
  },
  {
   "cell_type": "code",
   "execution_count": 4,
   "metadata": {},
   "outputs": [
    {
     "data": {
      "text/plain": [
       "minibatch (generic function with 1 method)"
      ]
     },
     "execution_count": 4,
     "metadata": {},
     "output_type": "execute_result"
    }
   ],
   "source": [
    "function minibatch(data,batchsize,atype)\n",
    "    batches = Any[]\n",
    "    xdt,ydt=data\n",
    "    for k = 1:batchsize:size(xdt,4)\n",
    "        lo = k\n",
    "        hi = min(k+batchsize-1, size(xdt,4))        \n",
    "        samples_x = xdt[:,:,:,lo:hi]\n",
    "        samples_y = ydt[lo:hi]\n",
    "        push!(batches,[atype(samples_x),samples_y])\n",
    "    end\n",
    "    return batches\n",
    "end"
   ]
  },
  {
   "cell_type": "code",
   "execution_count": 5,
   "metadata": {},
   "outputs": [
    {
     "data": {
      "text/plain": [
       "get_params_with_fc (generic function with 1 method)"
      ]
     },
     "execution_count": 5,
     "metadata": {},
     "output_type": "execute_result"
    }
   ],
   "source": [
    "#https://github.com/denizyuret/Knet.jl/blob/master/examples/vgg/vgg.jl\n",
    "#Initialize last 3 fc layer weights with xavier and zeroes \n",
    "function get_params_with_fc(CNN, atype; last_layer=\"prob\",numberfc=3)\n",
    "    layers = CNN[\"layers\"]\n",
    "    weights, operations, derivatives = [], [], []\n",
    "    countfc=0\n",
    "    for l in layers\n",
    "        get_layer_type(x) = startswith(l[\"name\"], x)\n",
    "        operation = filter(x -> get_layer_type(x), LAYER_TYPES)[1]\n",
    "        #if operation!=\"fc\"\n",
    "            push!(operations, operation)\n",
    "            push!(derivatives, haskey(l, \"weights\") && length(l[\"weights\"]) != 0)\n",
    "            if derivatives[end]\n",
    "                w = copy(l[\"weights\"])\n",
    "                if operation == \"conv\"\n",
    "                    w[2] = reshape(w[2], (1,1,length(w[2]),1))\n",
    "                elseif operation == \"fc\"\n",
    "                    countfc+=1\n",
    "                    a,b,c,d=size(w[1])\n",
    "                    e,f=size(w[2])\n",
    "                    if countfc==numberfc\n",
    "                        e=numClass\n",
    "                        d=numClass\n",
    "                    end\n",
    "                    w[1] = transpose(mat(xavier(a,b,c,d)))#transpose(mat(w[1]))\n",
    "                    w[2]=zeros(e,f)\n",
    "                end\n",
    "                push!(weights, w)\n",
    "            end\n",
    "        last_layer != nothing && get_layer_type(last_layer) && break\n",
    "    end\n",
    "    map(w -> map(wi->convert(atype,wi), w), weights), operations, derivatives\n",
    "end"
   ]
  },
  {
   "cell_type": "code",
   "execution_count": 6,
   "metadata": {},
   "outputs": [
    {
     "data": {
      "text/plain": [
       "predict (generic function with 1 method)"
      ]
     },
     "execution_count": 6,
     "metadata": {},
     "output_type": "execute_result"
    }
   ],
   "source": [
    "function conlayer(weight,x)\n",
    "    for w in weight\n",
    "        x=conv4(w[1],x,padding=1).+w[2]\n",
    "    end\n",
    "    x=pool(relu.(x))\n",
    "    return x\n",
    "end\n",
    "function fclayer(weight,x)\n",
    "    for i in 1:length(weight)-1\n",
    "        x=relu.(weight[i][1]*mat(x).+weight[i][2])\n",
    "    end\n",
    "    x=weight[end][1]*mat(x).+weight[end][2]\n",
    "    return x\n",
    "end\n",
    "function predict(weight,x)\n",
    "    x=conlayer(weight[1:2],x)\n",
    "    x=conlayer(weight[3:4],x)\n",
    "    x=conlayer(weight[5:7],x)\n",
    "    x=conlayer(weight[8:10],x)\n",
    "    x=conlayer(weight[11:13],x)\n",
    "    x=fclayer(weight[14:16],x)\n",
    "    return x\n",
    "end"
   ]
  },
  {
   "cell_type": "code",
   "execution_count": 7,
   "metadata": {},
   "outputs": [
    {
     "data": {
      "text/plain": [
       "accuracy (generic function with 1 method)"
      ]
     },
     "execution_count": 7,
     "metadata": {},
     "output_type": "execute_result"
    }
   ],
   "source": [
    "function accuracy(w,data,predfun)\n",
    "    ntotal=0\n",
    "    ncorrect=0\n",
    "    for (x,y) in data\n",
    "        ntotal+=length(y)\n",
    "        p=predfun(w,x)\n",
    "        p=convert(Array,p)\n",
    "        p=mapslices(indmax,p,1)\n",
    "        ncorrect += sum( p .== y)  \n",
    "    end\n",
    "    return ncorrect/ntotal\n",
    "end\n"
   ]
  },
  {
   "cell_type": "code",
   "execution_count": 8,
   "metadata": {},
   "outputs": [
    {
     "data": {
      "text/plain": [
       "(::gradfun) (generic function with 1 method)"
      ]
     },
     "execution_count": 8,
     "metadata": {},
     "output_type": "execute_result"
    }
   ],
   "source": [
    "softmax(w,data,predfun)=mean(softmax(w,x,y,predfun) for (x,y) in data)\n",
    "function softmax(w,x,label,predfun)\n",
    "    y1=predfun(w,x)\n",
    "   # y1=Array{Float32,2}(y1)\n",
    "    label=Array{Int32}(label)\n",
    "    loss=0\n",
    "    for i in 1:size(y1,2)\n",
    "   #     loss+=-y1[label[i],i]+logp(sum(exp.(y1[:,i])))\n",
    "        loss+=y1[label[i]]\n",
    "    end\n",
    "    return loss\n",
    "end\n",
    "softgradloss = gradloss(softmax)"
   ]
  },
  {
   "cell_type": "code",
   "execution_count": 18,
   "metadata": {},
   "outputs": [
    {
     "data": {
      "text/plain": [
       "train (generic function with 2 methods)"
      ]
     },
     "execution_count": 18,
     "metadata": {},
     "output_type": "execute_result"
    }
   ],
   "source": [
    "function train(w,dtrn, actfun=sigm; optim=nothing, epochs=10, lr=0.15)\n",
    "    l=0\n",
    "    for epoch in 1:epochs\n",
    "        for (x,y) in dtrn  # dtrn is a list of minibatches\n",
    "            g,l = softgradloss(w, x, y,predict)\n",
    "            if(optim==nothing)\n",
    "                update!(w,g,lr=lr)\n",
    "            else\n",
    "                update!(w,g,optim)\n",
    "            end\n",
    "        end\n",
    "        @printf(\"epoch %d finished, loss=%f\\n\", epoch, l)\n",
    "    end\n",
    "    return l\n",
    "end"
   ]
  },
  {
   "cell_type": "code",
   "execution_count": 10,
   "metadata": {},
   "outputs": [
    {
     "name": "stderr",
     "output_type": "stream",
     "text": [
      "\u001b[1m\u001b[36mINFO: \u001b[39m\u001b[22m\u001b[36mLoading imagenet-vgg-verydeep-16.mat...\n",
      "\u001b[39m"
     ]
    },
    {
     "data": {
      "text/plain": [
       "703.41815f0"
      ]
     },
     "execution_count": 10,
     "metadata": {},
     "output_type": "execute_result"
    }
   ],
   "source": [
    "atype=KnetArray{Float32}\n",
    "datadict=load(\"data.jld\")[\"data\"];\n",
    "dataKeys=collect(keys(datadict));\n",
    "model=\"imagenet-vgg-verydeep-16\" \n",
    "model = Main.matconvnet(model)\n",
    "trn,tst,vl=batch(model,datadict,dataKeys)\n",
    "batches=minibatch(trn,10,atype)\n",
    "w,op,der = get_params_with_fc(model, atype)\n",
    "xtrn,ytrn=batches[1]\n",
    "pred=predict(w,xtrn)\n",
    "accuracy(w,batches,predict)\n",
    "softmax(w,batches,predict)"
   ]
  },
  {
   "cell_type": "code",
   "execution_count": 19,
   "metadata": {},
   "outputs": [
    {
     "name": "stdout",
     "output_type": "stream",
     "text": [
      "epoch 1 finished, loss=NaN\n",
      "epoch 2 finished, loss=NaN\n",
      "epoch 3 finished, loss=NaN\n",
      "epoch 4 finished, loss=NaN\n",
      "epoch 5 finished, loss=NaN\n",
      "epoch 6 finished, loss=NaN\n",
      "epoch 7 finished, loss=NaN\n",
      "epoch 8 finished, loss=NaN\n",
      "epoch 9 finished, loss=NaN\n",
      "epoch 10 finished, loss=NaN\n"
     ]
    },
    {
     "data": {
      "text/plain": [
       "NaN32"
      ]
     },
     "execution_count": 19,
     "metadata": {},
     "output_type": "execute_result"
    }
   ],
   "source": [
    "lo=train(w,batches, optim=nothing)"
   ]
  },
  {
   "cell_type": "code",
   "execution_count": null,
   "metadata": {},
   "outputs": [],
   "source": []
  },
  {
   "cell_type": "code",
   "execution_count": null,
   "metadata": {},
   "outputs": [],
   "source": []
  },
  {
   "cell_type": "code",
   "execution_count": null,
   "metadata": {},
   "outputs": [],
   "source": []
  },
  {
   "cell_type": "code",
   "execution_count": null,
   "metadata": {},
   "outputs": [],
   "source": []
  }
 ],
 "metadata": {
  "kernelspec": {
   "display_name": "Julia 0.6.2",
   "language": "julia",
   "name": "julia-0.6"
  },
  "language_info": {
   "file_extension": ".jl",
   "mimetype": "application/julia",
   "name": "julia",
   "version": "0.6.2"
  }
 },
 "nbformat": 4,
 "nbformat_minor": 2
}
